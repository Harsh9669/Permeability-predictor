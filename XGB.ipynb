{
 "cells": [
  {
   "cell_type": "code",
   "execution_count": 1,
   "id": "c7fcaaf6-d9f1-411c-bc2e-b5efa46c7577",
   "metadata": {},
   "outputs": [],
   "source": [
    "import pandas as pd\n",
    "import numpy as np\n",
    "from sklearn.model_selection import train_test_split\n",
    "from sklearn.preprocessing import StandardScaler\n",
    "from sklearn.metrics import classification_report, accuracy_score, f1_score"
   ]
  },
  {
   "cell_type": "code",
   "execution_count": 2,
   "id": "02734c1b-011c-4d20-b450-5196e58d20f5",
   "metadata": {},
   "outputs": [],
   "source": [
    "df = pd.read_csv(\"CycPeptMPDB_Peptide.csv\")"
   ]
  },
  {
   "cell_type": "code",
   "execution_count": 3,
   "id": "8ea2fb45-77db-4425-ab4a-cb7df3eb5511",
   "metadata": {},
   "outputs": [],
   "source": [
    "df.drop(['PAMPA', 'Caco2', 'MDCK','RRCK'], axis = 1, inplace = True)\n",
    "df = df.dropna()\n",
    "df.drop(['SMILES', 'Structurally_Unique_ID', 'Original_Name_in_Source_Literature', 'Year', 'Source', 'CycPeptMPDB_ID'], axis = 1, inplace = True)\n",
    "df.drop(['Molecule_Shape','Monomer_Length_in_Main_Chain', 'Monomer_Length'], axis = 1, inplace = True)\n",
    "df = df[df.Permeability != -10]"
   ]
  },
  {
   "cell_type": "code",
   "execution_count": 4,
   "id": "7aaae7b2-94bd-4c02-8361-ea6a5ecc9c27",
   "metadata": {},
   "outputs": [
    {
     "name": "stdout",
     "output_type": "stream",
     "text": [
      "Permeability_class\n",
      "moderate/low    5718\n",
      "good            1053\n",
      "impermeable      438\n",
      "Name: count, dtype: int64\n"
     ]
    }
   ],
   "source": [
    "def classify_permeability(value):\n",
    "    if value >= -5:\n",
    "        return 'good'\n",
    "    elif -7 < value < -5:\n",
    "        return 'moderate/low'\n",
    "    else:\n",
    "        return 'impermeable'\n",
    "\n",
    "df['Permeability_class'] = df['Permeability'].apply(classify_permeability)\n",
    "\n",
    "# Drop the original 'Permeability_' column as we now have the classified version\n",
    "df = df.drop(columns=['Permeability'])\n",
    "\n",
    "# Display the distribution of the new classes\n",
    "print(df['Permeability_class'].value_counts())"
   ]
  },
  {
   "cell_type": "code",
   "execution_count": 5,
   "id": "a5f28be0-f539-4003-92ea-f9c77e151da1",
   "metadata": {},
   "outputs": [],
   "source": [
    "X = df.drop(columns=['Permeability_class'])\n",
    "y = df['Permeability_class']"
   ]
  },
  {
   "cell_type": "code",
   "execution_count": 6,
   "id": "9dd01bf8-ba70-4b00-923b-936b56581f87",
   "metadata": {},
   "outputs": [
    {
     "name": "stdout",
     "output_type": "stream",
     "text": [
      "Encoded classes: ['good' 'impermeable' 'moderate/low']\n"
     ]
    }
   ],
   "source": [
    "from sklearn.preprocessing import LabelEncoder\n",
    "le = LabelEncoder()\n",
    "y = le.fit_transform(y)\n",
    "\n",
    "# Display encoded classes\n",
    "print(f\"Encoded classes: {le.classes_}\")"
   ]
  },
  {
   "cell_type": "code",
   "execution_count": 7,
   "id": "967bc13f-22a7-4b23-aa7e-957fc0ca6c5b",
   "metadata": {},
   "outputs": [],
   "source": [
    "Xtrain, Xtest, ytrain, ytest = train_test_split(X, y, test_size=0.2, random_state= 0, stratify=y)"
   ]
  },
  {
   "cell_type": "code",
   "execution_count": 8,
   "id": "04d79436-08ac-40d9-821c-44b7b46a6cbe",
   "metadata": {},
   "outputs": [
    {
     "name": "stdout",
     "output_type": "stream",
     "text": [
      "              precision    recall  f1-score   support\n",
      "\n",
      "        good       0.81      0.69      0.75       211\n",
      " impermeable       0.76      0.51      0.61        87\n",
      "moderate/low       0.91      0.96      0.94      1144\n",
      "\n",
      "    accuracy                           0.89      1442\n",
      "   macro avg       0.83      0.72      0.76      1442\n",
      "weighted avg       0.89      0.89      0.89      1442\n",
      "\n",
      "Accuracy: 0.8938973647711512\n",
      "F1 Score: 0.8885519918669946\n"
     ]
    }
   ],
   "source": [
    "import xgboost as xgb\n",
    "\n",
    "# Build and train the XGBoost model\n",
    "xgb_model = xgb.XGBClassifier(use_label_encoder=False, eval_metric='mlogloss')\n",
    "xgb_model.fit(Xtrain, ytrain)\n",
    "\n",
    "# Predict and evaluate\n",
    "xgb_preds = xgb_model.predict(Xtest)\n",
    "\n",
    "print(classification_report(ytest, xgb_preds, target_names=le.classes_))\n",
    "print(f\"Accuracy: {accuracy_score(ytest, xgb_preds)}\")\n",
    "print(f\"F1 Score: {f1_score(ytest, xgb_preds, average='weighted')}\")"
   ]
  },
  {
   "cell_type": "code",
   "execution_count": 9,
   "id": "d3e5ab3a-93b7-4079-87ec-7cb7723ef458",
   "metadata": {},
   "outputs": [],
   "source": [
    "import pickle"
   ]
  },
  {
   "cell_type": "code",
   "execution_count": 10,
   "id": "915fb227-5766-40ea-8923-dfca78284ecf",
   "metadata": {},
   "outputs": [],
   "source": [
    "filename = 'trained_model.sav'\n",
    "pickle.dump(xgb_model, open(filename, 'wb'))"
   ]
  },
  {
   "cell_type": "code",
   "execution_count": 11,
   "id": "15c8b972-6f4c-43ac-a8ab-3a117aec03ea",
   "metadata": {},
   "outputs": [],
   "source": [
    "loaded_model = pickle.load(open('trained_model.sav', 'rb'))"
   ]
  },
  {
   "cell_type": "code",
   "execution_count": 12,
   "id": "60813d13-9ed8-486e-8f09-4de68a49af45",
   "metadata": {},
   "outputs": [
    {
     "name": "stdout",
     "output_type": "stream",
     "text": [
      "Encoded classes: ['good' 'impermeable' 'moderate/low']\n"
     ]
    }
   ],
   "source": [
    "yn = df['Permeability_class']\n",
    "Xn = df[['MolLogP','TPSA', 'MolWt','NumHAcceptors','NumHDonors', 'NumRotatableBonds']]\n",
    "from sklearn.preprocessing import LabelEncoder\n",
    "le = LabelEncoder()\n",
    "yn = le.fit_transform(yn)\n",
    "\n",
    "# Display encoded classes\n",
    "print(f\"Encoded classes: {le.classes_}\")"
   ]
  },
  {
   "cell_type": "code",
   "execution_count": 13,
   "id": "c25d7e47-3ab3-4819-ae8c-9c25b18f3337",
   "metadata": {},
   "outputs": [],
   "source": [
    "Xtrain, Xtest, ytrain, ytest = train_test_split(Xn, yn, test_size=0.2, random_state= 10, stratify=y)"
   ]
  },
  {
   "cell_type": "code",
   "execution_count": 14,
   "id": "964dfeca-819d-42bf-88ea-579402412f8d",
   "metadata": {},
   "outputs": [
    {
     "name": "stdout",
     "output_type": "stream",
     "text": [
      "              precision    recall  f1-score   support\n",
      "\n",
      "        good       0.81      0.65      0.72       211\n",
      " impermeable       0.73      0.49      0.59        87\n",
      "moderate/low       0.90      0.96      0.93      1144\n",
      "\n",
      "    accuracy                           0.89      1442\n",
      "   macro avg       0.81      0.70      0.75      1442\n",
      "weighted avg       0.88      0.89      0.88      1442\n",
      "\n",
      "Accuracy: 0.8862690707350902\n",
      "F1 Score: 0.8800158397463771\n"
     ]
    }
   ],
   "source": [
    "import xgboost as xgb\n",
    "\n",
    "# Build and train the XGBoost model\n",
    "xgb_model = xgb.XGBClassifier(use_label_encoder=False, eval_metric='mlogloss')\n",
    "xgb_model.fit(Xtrain, ytrain)\n",
    "\n",
    "# Predict and evaluate\n",
    "xgb_preds = xgb_model.predict(Xtest)\n",
    "\n",
    "print(classification_report(ytest, xgb_preds, target_names=le.classes_))\n",
    "print(f\"Accuracy: {accuracy_score(ytest, xgb_preds)}\")\n",
    "print(f\"F1 Score: {f1_score(ytest, xgb_preds, average='weighted')}\")"
   ]
  },
  {
   "cell_type": "code",
   "execution_count": 15,
   "id": "2e417c83-98bd-46d9-b2c3-b17f843d2f76",
   "metadata": {},
   "outputs": [
    {
     "data": {
      "text/html": [
       "<div>\n",
       "<style scoped>\n",
       "    .dataframe tbody tr th:only-of-type {\n",
       "        vertical-align: middle;\n",
       "    }\n",
       "\n",
       "    .dataframe tbody tr th {\n",
       "        vertical-align: top;\n",
       "    }\n",
       "\n",
       "    .dataframe thead th {\n",
       "        text-align: right;\n",
       "    }\n",
       "</style>\n",
       "<table border=\"1\" class=\"dataframe\">\n",
       "  <thead>\n",
       "    <tr style=\"text-align: right;\">\n",
       "      <th></th>\n",
       "      <th>MolWt</th>\n",
       "      <th>MolLogP</th>\n",
       "      <th>NumHDonors</th>\n",
       "      <th>NumHAcceptors</th>\n",
       "      <th>NumRotatableBonds</th>\n",
       "      <th>TPSA</th>\n",
       "      <th>0</th>\n",
       "    </tr>\n",
       "  </thead>\n",
       "  <tbody>\n",
       "    <tr>\n",
       "      <th>0</th>\n",
       "      <td>541</td>\n",
       "      <td>1.6</td>\n",
       "      <td>4.0</td>\n",
       "      <td>10.0</td>\n",
       "      <td>2.0</td>\n",
       "      <td>143.0</td>\n",
       "      <td>2</td>\n",
       "    </tr>\n",
       "    <tr>\n",
       "      <th>1</th>\n",
       "      <td>836</td>\n",
       "      <td>-0.8</td>\n",
       "      <td>12.0</td>\n",
       "      <td>18.0</td>\n",
       "      <td>13.0</td>\n",
       "      <td>287.0</td>\n",
       "      <td>2</td>\n",
       "    </tr>\n",
       "    <tr>\n",
       "      <th>2</th>\n",
       "      <td>561</td>\n",
       "      <td>-2.3</td>\n",
       "      <td>9.0</td>\n",
       "      <td>15.0</td>\n",
       "      <td>8.0</td>\n",
       "      <td>236.0</td>\n",
       "      <td>2</td>\n",
       "    </tr>\n",
       "    <tr>\n",
       "      <th>3</th>\n",
       "      <td>566</td>\n",
       "      <td>3.9</td>\n",
       "      <td>5.0</td>\n",
       "      <td>10.0</td>\n",
       "      <td>10.0</td>\n",
       "      <td>145.0</td>\n",
       "      <td>2</td>\n",
       "    </tr>\n",
       "    <tr>\n",
       "      <th>4</th>\n",
       "      <td>679</td>\n",
       "      <td>4.7</td>\n",
       "      <td>6.0</td>\n",
       "      <td>12.0</td>\n",
       "      <td>12.0</td>\n",
       "      <td>174.0</td>\n",
       "      <td>2</td>\n",
       "    </tr>\n",
       "    <tr>\n",
       "      <th>...</th>\n",
       "      <td>...</td>\n",
       "      <td>...</td>\n",
       "      <td>...</td>\n",
       "      <td>...</td>\n",
       "      <td>...</td>\n",
       "      <td>...</td>\n",
       "      <td>...</td>\n",
       "    </tr>\n",
       "    <tr>\n",
       "      <th>131</th>\n",
       "      <td>1184</td>\n",
       "      <td>3.5</td>\n",
       "      <td>5.0</td>\n",
       "      <td>22.0</td>\n",
       "      <td>14.0</td>\n",
       "      <td>276.0</td>\n",
       "      <td>2</td>\n",
       "    </tr>\n",
       "    <tr>\n",
       "      <th>132</th>\n",
       "      <td>1170</td>\n",
       "      <td>3.7</td>\n",
       "      <td>5.0</td>\n",
       "      <td>21.0</td>\n",
       "      <td>13.0</td>\n",
       "      <td>258.0</td>\n",
       "      <td>2</td>\n",
       "    </tr>\n",
       "    <tr>\n",
       "      <th>133</th>\n",
       "      <td>1203</td>\n",
       "      <td>3.6</td>\n",
       "      <td>5.0</td>\n",
       "      <td>23.0</td>\n",
       "      <td>15.0</td>\n",
       "      <td>279.0</td>\n",
       "      <td>2</td>\n",
       "    </tr>\n",
       "    <tr>\n",
       "      <th>134</th>\n",
       "      <td>1322</td>\n",
       "      <td>2.9</td>\n",
       "      <td>6.0</td>\n",
       "      <td>25.0</td>\n",
       "      <td>19.0</td>\n",
       "      <td>302.0</td>\n",
       "      <td>2</td>\n",
       "    </tr>\n",
       "    <tr>\n",
       "      <th>135</th>\n",
       "      <td>1527</td>\n",
       "      <td>-5.7</td>\n",
       "      <td>21.0</td>\n",
       "      <td>36.0</td>\n",
       "      <td>13.0</td>\n",
       "      <td>574.0</td>\n",
       "      <td>2</td>\n",
       "    </tr>\n",
       "  </tbody>\n",
       "</table>\n",
       "<p>136 rows × 7 columns</p>\n",
       "</div>"
      ],
      "text/plain": [
       "     MolWt  MolLogP  NumHDonors  NumHAcceptors  NumRotatableBonds   TPSA  0\n",
       "0      541      1.6         4.0           10.0                2.0  143.0  2\n",
       "1      836     -0.8        12.0           18.0               13.0  287.0  2\n",
       "2      561     -2.3         9.0           15.0                8.0  236.0  2\n",
       "3      566      3.9         5.0           10.0               10.0  145.0  2\n",
       "4      679      4.7         6.0           12.0               12.0  174.0  2\n",
       "..     ...      ...         ...            ...                ...    ... ..\n",
       "131   1184      3.5         5.0           22.0               14.0  276.0  2\n",
       "132   1170      3.7         5.0           21.0               13.0  258.0  2\n",
       "133   1203      3.6         5.0           23.0               15.0  279.0  2\n",
       "134   1322      2.9         6.0           25.0               19.0  302.0  2\n",
       "135   1527     -5.7        21.0           36.0               13.0  574.0  2\n",
       "\n",
       "[136 rows x 7 columns]"
      ]
     },
     "execution_count": 15,
     "metadata": {},
     "output_type": "execute_result"
    }
   ],
   "source": [
    "data = pd.read_csv('Cleaned_classification.csv')\n",
    "data.rename(columns={'MW': 'MolWt'}, inplace=True)\n",
    "data.rename(columns={'miLogP': 'MolLogP'}, inplace=True)\n",
    "data.rename(columns={'HBD': 'NumHDonors'}, inplace=True)\n",
    "data.rename(columns={'HBA': 'NumHAcceptors'}, inplace=True)\n",
    "data.rename(columns={'RotB': 'NumRotatableBonds'}, inplace=True)\n",
    "data.rename(columns={'tPSA (Ã…Â²)': 'TPSA'}, inplace=True)\n",
    "data.drop(['Compound'], axis = 1, inplace = True)\n",
    "data.drop(['F (%)'], axis = 1, inplace = True)\n",
    "data['MolLogP'] = data['MolLogP'].astype(float)\n",
    "data['TPSA'] = data['TPSA'].astype(float)\n",
    "data"
   ]
  },
  {
   "cell_type": "code",
   "execution_count": 16,
   "id": "9c43be0e-7183-46d4-80d7-08be0e7d0b50",
   "metadata": {},
   "outputs": [],
   "source": [
    "current_feature_order = ['MolWt', 'MolLogP', 'NumHDonors', 'NumHAcceptors', 'NumRotatableBonds', 'TPSA']\n",
    "\n",
    "# Get the current order of features\n",
    "desired_feature_order = ['MolLogP', 'TPSA', 'MolWt', 'NumHAcceptors', 'NumHDonors', 'NumRotatableBonds']\n",
    "\n",
    "# Create a list of indices to reorder the columns\n",
    "indices = [current_feature_order.index(feature) for feature in desired_feature_order]\n",
    "\n",
    "# Reorder the columns of X_pred\n",
    "X_pred = data.iloc[:, indices]"
   ]
  },
  {
   "cell_type": "code",
   "execution_count": 17,
   "id": "ccaf25f1-c259-4c17-93d5-fc61465a00bb",
   "metadata": {},
   "outputs": [],
   "source": [
    "xgb_comparison = xgb_model.predict(X_pred)"
   ]
  },
  {
   "cell_type": "code",
   "execution_count": 18,
   "id": "6b0bea4f-874b-4d9f-9619-c1d7dab44094",
   "metadata": {},
   "outputs": [],
   "source": [
    "ypred2 = pd.DataFrame(xgb_comparison)"
   ]
  },
  {
   "cell_type": "code",
   "execution_count": 19,
   "id": "a22ab4de-1b1e-4aee-8633-f2e004b21913",
   "metadata": {},
   "outputs": [],
   "source": [
    "ypred2.to_csv('output.csv', index=False)"
   ]
  },
  {
   "cell_type": "code",
   "execution_count": 20,
   "id": "ee478ebd-eae7-4e98-8256-db9919b97a1c",
   "metadata": {},
   "outputs": [],
   "source": [
    "da = pd.read_csv(\"output.csv\")"
   ]
  },
  {
   "cell_type": "code",
   "execution_count": 21,
   "id": "4c1ec20c-691e-4d41-bc8b-b5b886261330",
   "metadata": {},
   "outputs": [
    {
     "data": {
      "text/html": [
       "<div>\n",
       "<style scoped>\n",
       "    .dataframe tbody tr th:only-of-type {\n",
       "        vertical-align: middle;\n",
       "    }\n",
       "\n",
       "    .dataframe tbody tr th {\n",
       "        vertical-align: top;\n",
       "    }\n",
       "\n",
       "    .dataframe thead th {\n",
       "        text-align: right;\n",
       "    }\n",
       "</style>\n",
       "<table border=\"1\" class=\"dataframe\">\n",
       "  <thead>\n",
       "    <tr style=\"text-align: right;\">\n",
       "      <th></th>\n",
       "      <th>0</th>\n",
       "    </tr>\n",
       "  </thead>\n",
       "  <tbody>\n",
       "    <tr>\n",
       "      <th>0</th>\n",
       "      <td>1.0</td>\n",
       "    </tr>\n",
       "  </tbody>\n",
       "</table>\n",
       "</div>"
      ],
      "text/plain": [
       "     0\n",
       "0  1.0"
      ]
     },
     "execution_count": 21,
     "metadata": {},
     "output_type": "execute_result"
    }
   ],
   "source": [
    "da.corr()"
   ]
  },
  {
   "cell_type": "code",
   "execution_count": null,
   "id": "46bd8cf4-5767-408a-af6a-6f3940eb86c2",
   "metadata": {},
   "outputs": [],
   "source": []
  }
 ],
 "metadata": {
  "kernelspec": {
   "display_name": "Python 3 (ipykernel)",
   "language": "python",
   "name": "python3"
  },
  "language_info": {
   "codemirror_mode": {
    "name": "ipython",
    "version": 3
   },
   "file_extension": ".py",
   "mimetype": "text/x-python",
   "name": "python",
   "nbconvert_exporter": "python",
   "pygments_lexer": "ipython3",
   "version": "3.12.0"
  }
 },
 "nbformat": 4,
 "nbformat_minor": 5
}
